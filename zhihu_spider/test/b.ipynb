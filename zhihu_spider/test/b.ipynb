#%% Change working directory from the workspace root to the ipynb file location. Turn this addition off with the DataScience.changeDirOnImportExport setting
import os
try:
	os.chdir(os.path.join(os.getcwd(), 'zhihu_spider/test'))
	print(os.getcwd())
except:
	pass

#%% test
import tensorflow as tf
print(tf.__version__)
